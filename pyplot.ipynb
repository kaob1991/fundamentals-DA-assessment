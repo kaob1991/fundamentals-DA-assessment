{
 "cells": [
  {
   "cell_type": "code",
   "execution_count": 1,
   "metadata": {},
   "outputs": [],
   "source": [
    "import matplotlib.pyplot as plt\n",
    "\n",
    "import numpy as np "
   ]
  },
  {
   "cell_type": "code",
   "execution_count": null,
   "metadata": {},
   "outputs": [],
   "source": []
  },
  {
   "cell_type": "code",
   "execution_count": null,
   "metadata": {},
   "outputs": [],
   "source": []
  },
  {
   "cell_type": "code",
   "execution_count": null,
   "metadata": {},
   "outputs": [],
   "source": []
  },
  {
   "cell_type": "markdown",
   "metadata": {},
   "source": [
    "# Pyplot \n",
    "---\n",
    "---\n",
    "\n",
    "## Introduction \n",
    "---\n",
    "\n",
    "Pyplot is a subsection of a module commonly used in python for data analysis and visualisation of plots called matplotlib. The documentation for pyplot can be found here [1]. It is mainly intended to be used for interactive plots and simple cases of plot generation. In this notebook we are going to look at 3 plots that can be created, as well as give an overview of the package itself  \n",
    "\n",
    "[1]: https://matplotlib.org/stable/api/_as_gen/matplotlib.pyplot.html"
   ]
  },
  {
   "cell_type": "markdown",
   "metadata": {},
   "source": [
    "\n"
   ]
  },
  {
   "cell_type": "markdown",
   "metadata": {},
   "source": [
    "## Pyplot overview \n",
    "---\n",
    "Pyplot was created as part of the Matplotlib libraries by John D. Hunter (a neurobiologist [7]) in 2002 [4]  [5].\n",
    "He originally developed Matplotlib as a patch to fix a problem with IPython, and due to a delay in the patch being reviewed by IPython's creators, he took this as a cue to create a package of his own, releasing the first version in 2003. It received an early boost when the Space Telescope Science Institute adopted it as their plotting package of choice, providng financial support to the project in its early years of develpoment.\n",
    "\n",
    "It was developed as an alternative to MATLAB and is a low-level open-source library that is used with python to aid in the visualisation of data, through the use of plots and charts. Some of the key reasons Hunter believed that it became as successful as it did, outliving dozens of competing packages, was due to it's multi-platform support, and the fact it had a coherent vision: \"To do 2D graphics, and to do them well\" [6]\n",
    "\n",
    "\n",
    "\n",
    "It offers both a MATLAB-style interface, making it easy for MATLAB users to adapt to Python easier; and it also provides a Statefulness, which means that pyplot stores the state of an object when you first plot it. This is essential for use in the same loop or session state until plt.close() is encountered in the code. State can also be important when creating several plots continuously. [1]\n",
    "    Matplotlib breaks one of the cardinal rules of programming by providing statefullness. It's generally not recommended for a library to remember a previous command, as stateful processes can result in excessive memory usage and overhead consumption [2]  [3]. However, for Matplotlib, and more specifically pyplot, it allows the user to quickly and effiently create plots.     \n",
    "    \n",
    "    \n",
    " ### How Pyplot works \n",
    " \n",
    " There are 3 layers of interdependant layers that makes pyplot work- these are: The Scripting layer, the Artist layer, and the Backend layer. We will look at these individually below: \n",
    " \n",
    " #### Scripting Layer \n",
    " \n",
    " \n",
    " #### Artist Layer\n",
    " \n",
    " \n",
    " #### Backend layer \n",
    "\n",
    "\n",
    "\n",
    "[1]: https://www.activestate.com/resources/quick-reads/what-is-pyplot-in-matplotlib/\n",
    "\n",
    "[2]: https://stackoverflow.com/questions/24764918/what-does-it-mean-when-they-say-stateful\n",
    "\n",
    "[3]: https://stackoverflow.com/questions/59330733/what-are-states-vs-stateless-properties-and-advantages\n",
    "\n",
    "[4]: https://www.w3schools.com/python/matplotlib_intro.asp\n",
    "\n",
    "[5]: https://jakevdp.github.io/blog/2013/03/23/matplotlib-and-the-future-of-visualization-in-python/\n",
    "\n",
    "[6]: http://pyvideo.org/video/1192/matplotlib-lessons-from-middle-age-or-how-you\n",
    "\n",
    "[7]: https://en.wikipedia.org/wiki/John_D._Hunter"
   ]
  },
  {
   "cell_type": "code",
   "execution_count": null,
   "metadata": {},
   "outputs": [],
   "source": []
  },
  {
   "cell_type": "code",
   "execution_count": null,
   "metadata": {},
   "outputs": [],
   "source": []
  },
  {
   "cell_type": "code",
   "execution_count": null,
   "metadata": {},
   "outputs": [],
   "source": []
  },
  {
   "cell_type": "code",
   "execution_count": null,
   "metadata": {},
   "outputs": [],
   "source": []
  },
  {
   "cell_type": "code",
   "execution_count": null,
   "metadata": {},
   "outputs": [],
   "source": []
  },
  {
   "cell_type": "code",
   "execution_count": null,
   "metadata": {},
   "outputs": [],
   "source": []
  },
  {
   "cell_type": "markdown",
   "metadata": {},
   "source": [
    "<!--bibtex\n",
    "\n",
    "\n",
    "\n",
    "@misc{WinNT,\n",
    "  title = {{MS Windows NT} Kernel Description},\n",
    "  howpublished = {\\url{http://web.archive.org/web/20080207010024/http://www.808multimedia.com/winnt/kernel.htm}},\n",
    "  note = {Accessed: 2010-09-30}\n",
    "}\n",
    "\n",
    "\n",
    " @misc{matplotlib1, title={matplotlib.pyplot¶}, url={https://matplotlib.org/stable/api/_as_gen/matplotlib.pyplot.html}, journal={matplotlib.pyplot - Matplotlib 3.4.3 documentation}\n",
    " } \n",
    " \n",
    "\n",
    "\n",
    "\n",
    "-->\n"
   ]
  },
  {
   "cell_type": "markdown",
   "metadata": {},
   "source": [
    "end"
   ]
  },
  {
   "cell_type": "markdown",
   "metadata": {},
   "source": [
    "\n",
    "https://mybinder.readthedocs.io/en/latest/using/config_files.html (in read me- what the requirement file actually does) \n",
    "\n",
    "https://www.markdownguide.org/basic-syntax/#urls-and-email-addresses\n",
    "    \n",
    "https://matplotlib.org/stable/api/_as_gen/matplotlib.pyplot.html\n",
    "\n",
    "https://jupyter.brynmawr.edu/services/public/dblank/Jupyter%20Notebook%20Users%20Manual.ipynb#4.3.4-Reference-Links"
   ]
  },
  {
   "cell_type": "markdown",
   "metadata": {},
   "source": []
  }
 ],
 "metadata": {
  "kernelspec": {
   "display_name": "Python 3",
   "language": "python",
   "name": "python3"
  },
  "language_info": {
   "codemirror_mode": {
    "name": "ipython",
    "version": 3
   },
   "file_extension": ".py",
   "mimetype": "text/x-python",
   "name": "python",
   "nbconvert_exporter": "python",
   "pygments_lexer": "ipython3",
   "version": "3.8.5"
  }
 },
 "nbformat": 4,
 "nbformat_minor": 4
}
