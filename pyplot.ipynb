{
 "cells": [
  {
   "cell_type": "code",
   "execution_count": 1,
   "metadata": {},
   "outputs": [],
   "source": [
    "import matplotlib.pyplot as plt\n",
    "\n",
    "import numpy as np "
   ]
  },
  {
   "cell_type": "markdown",
   "metadata": {},
   "source": [
    "# Pyplot \n",
    "---\n",
    "---\n",
    "\n",
    "## Introduction \n",
    "---\n",
    "\n",
    "Pyplot is a subsection of a module commonly used in python for data analysis and visualisation of plots called matplotlib. The documentation for pyplot can be found here [1]. It is mainly intended to be used for interactive plots and simple cases of plot generation. In this notebook we are going to look at 3 plots that can be created, as well as give an overview of the package itself  \n",
    "\n",
    "[1]: https://matplotlib.org/stable/api/_as_gen/matplotlib.pyplot.html"
   ]
  },
  {
   "cell_type": "markdown",
   "metadata": {},
   "source": [
    "\n"
   ]
  },
  {
   "cell_type": "markdown",
   "metadata": {},
   "source": [
    "## Pyplot overview \n",
    "---\n",
    "Pyplot was created as part of the Matplotlib libraries by John D. Hunter (a neurobiologist [7]) in 2002 [4]  [5].\n",
    "He originally developed Matplotlib as a patch to fix a problem with IPython, and due to a delay in the patch being reviewed by IPython's creators, he took this as a cue to create a package of his own, releasing the first version in 2003. It received an early boost when the Space Telescope Science Institute adopted it as their plotting package of choice, providng financial support to the project in its early years of develpoment.\n",
    "\n",
    "It was developed as an alternative to MATLAB and is a low-level open-source library that is used with python to aid in the visualisation of data, through the use of plots and charts. Some of the key reasons Hunter believed that it became as successful as it did, outliving dozens of competing packages, was due to it's multi-platform support, and the fact it had a coherent vision: \"To do 2D graphics, and to do them well\" [6]\n",
    "\n",
    "\n",
    "***THIS SECTION NEEDS TO BE REWRITTEN***\n",
    "\n",
    "\n",
    "It offers both a MATLAB-style interface, making it easy for MATLAB users to adapt to Python easier; and it also provides a Statefulness, which means that pyplot stores the state of an object when you first plot it. This is essential for use in the same loop or session state until plt.close() is encountered in the code. State can also be important when creating several plots continuously. [1]\n",
    "    Matplotlib breaks one of the cardinal rules of programming by providing statefullness. It's generally not recommended for a library to remember a previous command, as stateful processes can result in excessive memory usage and overhead consumption [2]  [3]. However, for Matplotlib, and more specifically pyplot, it allows the user to quickly and effiently create plots. \n",
    "    \n",
    " ***\n",
    "    \n",
    " ### Object Hierarchy \n",
    " \n",
    " One of the fundamental concepts of matplotlib is that of its object hierarchy. A simple plot such as ```plt.plot([1, 2, 3)``` hides the fact that a plot is actually a nested Python object structure. This means that there is a tree-like structure of matplotlib objects underlying each plot.  \n",
    " \n",
    " The outermost container for a matplotlib graphic which contains multiple Axes objects is called a Figure object. In this instance, an Axes is an individual plot as opposed to the plural of 'axis'. So, in an object hierarchy in matplotlib the Figure object contains one or more Axes/individual plots. Below the Axes for each plot are the smaller objects like tick marks, individual lines, legends, grid lines. Almost every element of a plot is modifiable, down to the ticks on the x and y- axis. Below is a graphic showing the various elements of a plot. [9] \n",
    " \n",
    " \n",
    " ![](http://www.pybloggers.com/wp-content/uploads/2018/02/files.realpython.comanatomy.7d033ebbfbc8-ed9754f2924c6eb467d96e4ac5e39c1918d43d01.png)\n",
    " \n",
    "\n",
    " \n",
    " \n",
    "    \n",
    " ### Stateful vs Stateless Matplotlib \n",
    " \n",
    " \n",
    "As previously mentioned, Matplotlib provides both stateful (state-based) and stateless (object-oriented, OO) plotting. \n",
    "\n",
    " #### Stateful\n",
    "\n",
    "Functions such as plt.plot() are implicitly referring to an existing current Figure and Axes, or creating new ones if none exist. This stateful interface makes calls with this, and other top-level pyplot functions. With stateful plotting there is only ever one figure of axes that is being manipulated at any one time and thus there is no need to explicitly refer to them. \n",
    "\n",
    " #### Stateless\n",
    " \n",
    " Contrast this with the object-oriented approach which modifies the underlying objects directly. This is done usually by calling methods of an Axes object explicitly, i.e. the plot. Most of the functions from pyplot also exist as methods of the matplotlib.axes.Axes class.\n",
    " Pyplot is home to a batch of functions which are really just wrappers around matplotlib’s object-oriented interface. For example, with plt.title(), there are corresponding setter and getter methods within the OO approach, ax.set_title() and ax.get_title(). (Use of getters and setters tends to be more popular in languages such as Java, but is a key feature of matplotlib’s OO approach.). This is a more customisable approach and comes handy as graphs become more complex. \n",
    " For example, Calling plt.title() in a stateful approach gets translated into this one line for stateless: gca().set_title(s, \\*args, \\*\\*kwargs) [10].\n",
    " \n",
    " \n",
    " \n",
    "   - gca() grabs the current axis and returns it.\n",
    "    \n",
    "    \n",
    "   - set_title() is a setter method, which sets the title for that Axes object. \n",
    "    \n",
    "\n",
    "Looking at the source for top-level functions like plt.grid(), plt.legend(), and plt.ylabels(), all of them follow the same structure of delegating to the current Axes with gca(), and then calling some method of the current Axes.[10]\n",
    " \n",
    "Interestingly, the only time that the OO approach uses pyplot is to create a Figure and Axes.\n",
    "\n",
    "\n",
    "    \n",
    "    \n",
    " ### How Pyplot works \n",
    " \n",
    " There are 3 layers of interdependent layers that makes pyplot work- these are: The Scripting layer, the Artist layer, and the Backend layer. We will look at these individually below [8]: \n",
    " \n",
    " #### Scripting Layer \n",
    " \n",
    "The top-level object in the scripting layer is matplotlib.pyplot.figure(), otherwise known as the Figure. The figure acts as a container that manages all of the elements in a given plot.\n",
    "\n",
    "Let’s examine each line in the following script to see how pyplot creates a plot and displays it:\n",
    "\n",
    "\"import matplotlib.pyplot as plt\" This creates a configuration file and a default Figure and Axe are defined. \n",
    "\n",
    "\"plt.plot([1, 2, 3])\" The plot () command is directed to the matplotlib.axes.Axes.plot function in the backend which provides a unified interface for the different plot types. In this instance, as a custom figure and Axes hve not been defined, plotting will take place in the default specified by the library. Ie., in this case  Pyplot assumes that [1,2,3] is the y-axis values and automatically generates a corresponding sequence of x values. \n",
    "\n",
    "\" plt.title(”Simple Plot”) \" The title () command directs to the Axes. set_title finction in the backend and ensures the plot is titled as per the user request. \n",
    "\n",
    "\"plt.show\" The show () command is directed the matplotlib.figure.Figure.show() fuction in the backend. This function causes the figure to render based on the previous commands in the script, and then display the Figure and its specific elements on screen. \n",
    " \n",
    " \n",
    " #### Artist Layer\n",
    " \n",
    " The artist layer acts as a descriptive medium between pyplot scripts and more complex Python class objects in the other layers. In this layer, abstract interface classes mediate with high level pyplot elements in the scriptinging layer, represented here as figurative objects in a drawing. \n",
    "\n",
    "Artist is analogous to a canvas where scripts in the scripting layer correspond to classes in the backend layer, and is understood as a hierarchy of objects on an abstract canvas. It is here that a sequence of values in a pyplot script can be sketched as a line (Line2D), for example.\n",
    " \n",
    " \n",
    " ![picture](https://cdn.activestate.com/wp-content/uploads/2021/01/what-is-pyplot-in-matplotlib-figure-1-300x215.jpg)\n",
    " \n",
    " ![picture2](https://cdn.activestate.com/wp-content/uploads/2021/01/what-is-pyplot-in-matplotlib-figure-2.png)\n",
    " \n",
    " \n",
    " \n",
    " #### Backend layer \n",
    " \n",
    " The backend layer provides a concrete implementation of the artist layer and its abstraction. The term ‘backend’ is most commonly used to refer to output formats that matplotlib supports. \n",
    "\n",
    "\n",
    "\n",
    "\n",
    "[1]: https://www.activestate.com/resources/quick-reads/what-is-pyplot-in-matplotlib/\n",
    "\n",
    "[2]: https://stackoverflow.com/questions/24764918/what-does-it-mean-when-they-say-stateful\n",
    "\n",
    "[3]: https://stackoverflow.com/questions/59330733/what-are-states-vs-stateless-properties-and-advantages\n",
    "\n",
    "[4]: https://www.w3schools.com/python/matplotlib_intro.asp\n",
    "\n",
    "[5]: https://jakevdp.github.io/blog/2013/03/23/matplotlib-and-the-future-of-visualization-in-python/\n",
    "\n",
    "[6]: http://pyvideo.org/video/1192/matplotlib-lessons-from-middle-age-or-how-you\n",
    "\n",
    "[7]: https://en.wikipedia.org/wiki/John_D._Hunter\n",
    "\n",
    "[8]: https://www.activestate.com/resources/quick-reads/what-is-pyplot-in-matplotlib/\n",
    "\n",
    "[9]: http://www.pybloggers.com/2018/02/python-plotting-with-matplotlib-guide/\n",
    "\n",
    "[10]: https://medium.com/@The_Gambitier/matplotlib-essentials-e376ed954201\n",
    "\n"
   ]
  },
  {
   "cell_type": "markdown",
   "metadata": {},
   "source": []
  },
  {
   "cell_type": "code",
   "execution_count": null,
   "metadata": {},
   "outputs": [],
   "source": []
  },
  {
   "cell_type": "code",
   "execution_count": null,
   "metadata": {},
   "outputs": [],
   "source": []
  },
  {
   "cell_type": "code",
   "execution_count": null,
   "metadata": {},
   "outputs": [],
   "source": []
  },
  {
   "cell_type": "code",
   "execution_count": null,
   "metadata": {},
   "outputs": [],
   "source": []
  },
  {
   "cell_type": "code",
   "execution_count": null,
   "metadata": {},
   "outputs": [],
   "source": []
  },
  {
   "cell_type": "markdown",
   "metadata": {},
   "source": [
    "<!--bibtex\n",
    "\n",
    "\n",
    "\n",
    "@misc{WinNT,\n",
    "  title = {{MS Windows NT} Kernel Description},\n",
    "  howpublished = {\\url{http://web.archive.org/web/20080207010024/http://www.808multimedia.com/winnt/kernel.htm}},\n",
    "  note = {Accessed: 2010-09-30}\n",
    "}\n",
    "\n",
    "\n",
    " @misc{matplotlib1, title={matplotlib.pyplot¶}, url={https://matplotlib.org/stable/api/_as_gen/matplotlib.pyplot.html}, journal={matplotlib.pyplot - Matplotlib 3.4.3 documentation}\n",
    " } \n",
    " \n",
    "\n",
    "\n",
    "\n",
    "-->\n"
   ]
  },
  {
   "cell_type": "markdown",
   "metadata": {},
   "source": [
    "end"
   ]
  },
  {
   "cell_type": "markdown",
   "metadata": {},
   "source": [
    "\n",
    "https://mybinder.readthedocs.io/en/latest/using/config_files.html (in read me- what the requirement file actually does) \n",
    "\n",
    "https://www.markdownguide.org/basic-syntax/#urls-and-email-addresses\n",
    "    \n",
    "https://matplotlib.org/stable/api/_as_gen/matplotlib.pyplot.html\n",
    "\n",
    "\n",
    "https://jupyter.brynmawr.edu/services/public/dblank/Jupyter%20Notebook%20Users%20Manual.ipynb#4.3.4-Reference-Links"
   ]
  },
  {
   "cell_type": "markdown",
   "metadata": {},
   "source": []
  }
 ],
 "metadata": {
  "kernelspec": {
   "display_name": "Python 3",
   "language": "python",
   "name": "python3"
  },
  "language_info": {
   "codemirror_mode": {
    "name": "ipython",
    "version": 3
   },
   "file_extension": ".py",
   "mimetype": "text/x-python",
   "name": "python",
   "nbconvert_exporter": "python",
   "pygments_lexer": "ipython3",
   "version": "3.8.5"
  }
 },
 "nbformat": 4,
 "nbformat_minor": 4
}
